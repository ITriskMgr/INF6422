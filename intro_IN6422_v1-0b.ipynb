{
  "nbformat": 4,
  "nbformat_minor": 0,
  "metadata": {
    "colab": {
      "name": "Copie de IN6422.ipynb",
      "provenance": [],
      "authorship_tag": "ABX9TyNU49wdLmIeBHsQp5GAeBIx",
      "include_colab_link": true
    },
    "kernelspec": {
      "name": "python3",
      "display_name": "Python 3"
    },
    "language_info": {
      "name": "python"
    }
  },
  "cells": [
    {
      "cell_type": "markdown",
      "metadata": {
        "id": "view-in-github",
        "colab_type": "text"
      },
      "source": [
        "<a href=\"https://colab.research.google.com/github/ITriskMgr/INF6422/blob/main/intro_IN6422_v1-0b.ipynb\" target=\"_parent\"><img src=\"https://colab.research.google.com/assets/colab-badge.svg\" alt=\"Open In Colab\"/></a>"
      ]
    },
    {
      "cell_type": "code",
      "execution_count": null,
      "metadata": {
        "id": "h5b7n2LkEcj-",
        "colab": {
          "base_uri": "https://localhost:8080/"
        },
        "outputId": "f44f6c6a-ddbd-48aa-a831-fe8b3136062d"
      },
      "outputs": [
        {
          "output_type": "stream",
          "name": "stdout",
          "text": [
            "Bonjour au monde\n"
          ]
        }
      ],
      "source": [
        "# this is an initial file for the intro course\n",
        "print ('Bonjour au monde')"
      ]
    },
    {
      "cell_type": "code",
      "source": [
        "# Quelle est la version de Python \n",
        "import sys\n",
        "sys.version"
      ],
      "metadata": {
        "colab": {
          "base_uri": "https://localhost:8080/",
          "height": 35
        },
        "id": "AjCJWcVUNBKV",
        "outputId": "f20b4cab-6511-4f73-ecd8-9eaf89e6b1a6"
      },
      "execution_count": null,
      "outputs": [
        {
          "output_type": "execute_result",
          "data": {
            "application/vnd.google.colaboratory.intrinsic+json": {
              "type": "string"
            },
            "text/plain": [
              "'3.7.12 (default, Sep 10 2021, 00:21:48) \\n[GCC 7.5.0]'"
            ]
          },
          "metadata": {},
          "execution_count": 5
        }
      ]
    },
    {
      "cell_type": "code",
      "source": [
        "# addition de deux nombres\n",
        "# adapté de https://www.programiz.com/python-programming/examples/add-number\n",
        "no1 = 1.3\n",
        "no2 = 8.7\n",
        "\n",
        "# addition des nombres\n",
        "som = no1 + no2\n",
        "\n",
        "# Afficher le total\n",
        "print('La somme de {0} et {1} est {2}'.format(no1, no2, som))"
      ],
      "metadata": {
        "colab": {
          "base_uri": "https://localhost:8080/"
        },
        "id": "G0PptQL0NMlk",
        "outputId": "56e5b851-2ee8-42d8-860c-d60d95208c3f"
      },
      "execution_count": null,
      "outputs": [
        {
          "output_type": "stream",
          "name": "stdout",
          "text": [
            "La somme de 1.3 et 8.7 est 10.0\n"
          ]
        }
      ]
    },
    {
      "cell_type": "code",
      "source": [
        "# addition de deux nombres avec input de l'utilisateur\n",
        "# adapté de https://www.programiz.com/python-programming/examples/add-number\n",
        "no1 = input('Entrez le premier nombre : ')\n",
        "no2 = input('Entrez le second nombre : ')\n",
        "\n",
        "# addition des nombres\n",
        "som = float(no1) + float(no2)\n",
        "\n",
        "# afficher le total\n",
        "print('La somme de {0} et {1} est {2}'.format(no1, no2, som))"
      ],
      "metadata": {
        "id": "XMVNHNx2P-U5",
        "outputId": "858ecff3-ac3b-4ead-82d1-da7ec54cf945",
        "colab": {
          "base_uri": "https://localhost:8080/"
        }
      },
      "execution_count": null,
      "outputs": [
        {
          "output_type": "stream",
          "name": "stdout",
          "text": [
            "Entrez le premier nombre : 12\n",
            "Entrez le second nombre : 25.5\n",
            "La somme de 12 et 25.5 est 37.5\n"
          ]
        }
      ]
    },
    {
      "cell_type": "code",
      "source": [
        "# Pour générer un nombre pseudo-aléatoire entre 0 et 99\n",
        "\n",
        "# import de la librairie random\n",
        "import random\n",
        "\n",
        "print(random.randint(0,99))"
      ],
      "metadata": {
        "id": "YsLZI-k0Rn0U",
        "outputId": "afd92a6f-fa07-4522-9d43-3d166ebd0a55",
        "colab": {
          "base_uri": "https://localhost:8080/"
        }
      },
      "execution_count": null,
      "outputs": [
        {
          "output_type": "stream",
          "name": "stdout",
          "text": [
            "95\n"
          ]
        }
      ]
    },
    {
      "cell_type": "code",
      "source": [
        "# pour des tests on triche un peu\n",
        "import random\n",
        "\n",
        "#sans le seed\n",
        "random.seed()\n",
        "print(random.random())\n",
        "\n",
        "#avec le seed\n",
        "random.seed(100)\n",
        "print(random.random())"
      ],
      "metadata": {
        "id": "8tVe_JGmSZ06",
        "outputId": "ea030de6-da90-47a6-9d58-f157a3a4b643",
        "colab": {
          "base_uri": "https://localhost:8080/"
        }
      },
      "execution_count": null,
      "outputs": [
        {
          "output_type": "stream",
          "name": "stdout",
          "text": [
            "0.6236664125757467\n",
            "0.1456692551041303\n"
          ]
        }
      ]
    },
    {
      "cell_type": "code",
      "source": [
        "# addition de deux matrices avec des boucles imbriquées\n",
        "\n",
        "X = [[1,2,3],\n",
        "    [4,5,6],\n",
        "    [7,8,9]]\n",
        "\n",
        "Y = [[5,8,10],\n",
        "    [6,7,3],\n",
        "    [40,95,69]]\n",
        "\n",
        "resultat = [[0,0,0],\n",
        "         [0,0,0],\n",
        "         [0,0,0]]\n",
        "\n",
        "# iteration dans les rangées\n",
        "for i in range(len(X)):\n",
        "   # iteration dans les colonnes\n",
        "   for j in range(len(X[0])):\n",
        "       resultat[i][j] = X[i][j] + Y[i][j]\n",
        "\n",
        "for r in resultat:\n",
        "   print(r)"
      ],
      "metadata": {
        "id": "TSjQ4h8AYa7T",
        "outputId": "defe17a3-a82d-48e6-d620-86cc16938e3e",
        "colab": {
          "base_uri": "https://localhost:8080/"
        }
      },
      "execution_count": null,
      "outputs": [
        {
          "output_type": "stream",
          "name": "stdout",
          "text": [
            "[6, 10, 13]\n",
            "[10, 12, 9]\n",
            "[47, 103, 78]\n"
          ]
        }
      ]
    },
    {
      "cell_type": "code",
      "source": [
        "# calculer la durée d'une action\n",
        "import time\n",
        "attente = 100000000\n",
        "\n",
        "start = time.time()\n",
        "print('début : ', start)\n",
        "# une petite boucle pour mettre du temps \n",
        "\n",
        "x = 0\n",
        "while x < attente:\n",
        "  # print(x)\n",
        "  x = x + 1\n",
        "\n",
        "end = time.time()\n",
        "print ('fin : ', end)\n",
        "\n",
        "print('cette action a pris : ', end - start)"
      ],
      "metadata": {
        "id": "botzemk_aOoA",
        "outputId": "6c554c4a-2451-4520-c96a-2bc999eabb04",
        "colab": {
          "base_uri": "https://localhost:8080/"
        }
      },
      "execution_count": null,
      "outputs": [
        {
          "output_type": "stream",
          "name": "stdout",
          "text": [
            "début :  1639409890.3738875\n",
            "fin :  1639409902.90325\n",
            "cette action a pris :  12.529362440109253\n"
          ]
        }
      ]
    },
    {
      "cell_type": "code",
      "source": [
        "# calculer la durée d'une action Version 2\n",
        "import time\n",
        "attente = 10000000\n",
        "\n",
        "start = time.time()\n",
        "print('début : ', start)\n",
        "# une petite boucle pour mettre du temps \n",
        "\n",
        "x = 0\n",
        "if x < attente:\n",
        "   x = x + 1\n",
        "   time.sleep(3)\n",
        "\n",
        "end = time.time()\n",
        "print ('fin : ', end)\n",
        "\n",
        "print('cette action a pris : ', end - start)"
      ],
      "metadata": {
        "colab": {
          "base_uri": "https://localhost:8080/"
        },
        "id": "QchGn-xykuM7",
        "outputId": "672f20c1-6622-4c3a-ff7a-44b8f9bbc2ad"
      },
      "execution_count": 6,
      "outputs": [
        {
          "output_type": "stream",
          "name": "stdout",
          "text": [
            "début :  1639412383.6459115\n",
            "fin :  1639412386.651193\n",
            "cette action a pris :  3.005281448364258\n"
          ]
        }
      ]
    },
    {
      "cell_type": "code",
      "source": [
        "# calculer la durée d'une action\n",
        "import time\n",
        "import random\n",
        "\n",
        "attente = [100, 210, 123, 456]\n",
        "\n",
        "start = time.time()\n",
        "print('début : ', start)\n",
        "\n",
        "# une petite boucle pour mettre du temps \n",
        "x = 0\n",
        "for x in attente:\n",
        "  print(x)\n",
        "  x = x + 1\n",
        "  time.sleep(random.random())\n",
        "\n",
        "end = time.time()\n",
        "print ('fin : ', end)\n",
        "\n",
        "print('cette action a pris : ', end - start)"
      ],
      "metadata": {
        "colab": {
          "base_uri": "https://localhost:8080/"
        },
        "id": "HVUHechgkuf5",
        "outputId": "b592ff51-c632-4e4e-a639-a37e9d2e4864"
      },
      "execution_count": 11,
      "outputs": [
        {
          "output_type": "stream",
          "name": "stdout",
          "text": [
            "début :  1639412599.5685592\n",
            "100\n",
            "210\n",
            "123\n",
            "456\n",
            "fin :  1639412601.7909575\n",
            "cette action a pris :  2.222398281097412\n"
          ]
        }
      ]
    }
  ]
}