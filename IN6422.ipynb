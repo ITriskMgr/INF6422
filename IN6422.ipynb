{
  "nbformat": 4,
  "nbformat_minor": 0,
  "metadata": {
    "colab": {
      "name": "IN6422.ipynb",
      "provenance": [],
      "authorship_tag": "ABX9TyMYBBb6KC0L0rHhAKbrkZci",
      "include_colab_link": true
    },
    "kernelspec": {
      "name": "python3",
      "display_name": "Python 3"
    },
    "language_info": {
      "name": "python"
    }
  },
  "cells": [
    {
      "cell_type": "markdown",
      "metadata": {
        "id": "view-in-github",
        "colab_type": "text"
      },
      "source": [
        "<a href=\"https://colab.research.google.com/github/ITriskMgr/INF6422/blob/main/IN6422.ipynb\" target=\"_parent\"><img src=\"https://colab.research.google.com/assets/colab-badge.svg\" alt=\"Open In Colab\"/></a>"
      ]
    },
    {
      "cell_type": "code",
      "execution_count": null,
      "metadata": {
        "id": "h5b7n2LkEcj-"
      },
      "outputs": [],
      "source": [
        ""
      ]
    }
  ]
}